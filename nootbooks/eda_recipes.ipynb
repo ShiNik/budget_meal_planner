{
 "cells": [
  {
   "cell_type": "code",
   "execution_count": 1,
   "metadata": {},
   "outputs": [],
   "source": [
    "import pandas as pd"
   ]
  },
  {
   "cell_type": "code",
   "execution_count": 2,
   "metadata": {},
   "outputs": [],
   "source": [
    "recipes_df = pd.read_csv(\"../data/recipes/RAW_recipes.csv\")\n"
   ]
  },
  {
   "cell_type": "code",
   "execution_count": 3,
   "metadata": {},
   "outputs": [
    {
     "name": "stdout",
     "output_type": "stream",
     "text": [
      "The recipes dataset has 231637 unique recipes.\n"
     ]
    }
   ],
   "source": [
    "print('The recipes dataset has', recipes_df['id'].nunique(), 'unique recipes.')"
   ]
  },
  {
   "cell_type": "code",
   "execution_count": 5,
   "metadata": {},
   "outputs": [
    {
     "data": {
      "text/plain": [
       "Index(['name', 'id', 'minutes', 'contributor_id', 'submitted', 'tags',\n",
       "       'nutrition', 'n_steps', 'steps', 'description', 'ingredients',\n",
       "       'n_ingredients'],\n",
       "      dtype='object')"
      ]
     },
     "execution_count": 5,
     "metadata": {},
     "output_type": "execute_result"
    }
   ],
   "source": [
    "recipes_df.columns"
   ]
  },
  {
   "cell_type": "code",
   "execution_count": 6,
   "metadata": {},
   "outputs": [
    {
     "data": {
      "text/plain": [
       "'autumn is my favorite time of year to cook! this recipe \\r\\ncan be prepared either spicy or sweet, your choice!\\r\\ntwo of my posted mexican-inspired seasoning mix recipes are offered as suggestions.'"
      ]
     },
     "execution_count": 6,
     "metadata": {},
     "output_type": "execute_result"
    }
   ],
   "source": [
    "recipes_df['description'].values[0]"
   ]
  },
  {
   "cell_type": "code",
   "execution_count": 7,
   "metadata": {},
   "outputs": [
    {
     "data": {
      "text/plain": [
       "'arriba   baked winter squash mexican style'"
      ]
     },
     "execution_count": 7,
     "metadata": {},
     "output_type": "execute_result"
    }
   ],
   "source": [
    "recipes_df['name'].values[0]"
   ]
  },
  {
   "cell_type": "code",
   "execution_count": 9,
   "metadata": {},
   "outputs": [
    {
     "name": "stdout",
     "output_type": "stream",
     "text": [
      "(\"['make a choice and proceed with recipe', 'depending on size of squash , cut \"\n",
      " \"into half or fourths', 'remove seeds', 'for spicy squash , drizzle olive oil \"\n",
      " \"or melted butter over each cut squash piece', 'season with mexican seasoning \"\n",
      " \"mix ii', 'for sweet squash , drizzle melted honey , butter , grated \"\n",
      " \"piloncillo over each cut squash piece', 'season with sweet mexican spice \"\n",
      " \"mix', 'bake at 350 degrees , again depending on size , for 40 minutes up to \"\n",
      " \"an hour , until a fork can easily pierce the skin', 'be careful not to burn \"\n",
      " \"the squash especially if you opt to use sugar or butter', 'if you feel more \"\n",
      " 'comfortable , cover the squash with aluminum foil the first half hour , give '\n",
      " \"or take , of baking', 'if desired , season with salt']\")\n"
     ]
    }
   ],
   "source": [
    "import  pprint\n",
    "pprint.pprint(recipes_df['steps'].values[0])"
   ]
  },
  {
   "cell_type": "code",
   "execution_count": 3,
   "metadata": {},
   "outputs": [],
   "source": [
    "unique_df = recipes_df.drop_duplicates(subset='id')\n",
    "\n",
    "unique_df.to_csv('../data/recipes/raw_unique_recipes.csv', index=False)"
   ]
  }
 ],
 "metadata": {
  "kernelspec": {
   "display_name": ".venv",
   "language": "python",
   "name": "python3"
  },
  "language_info": {
   "codemirror_mode": {
    "name": "ipython",
    "version": 3
   },
   "file_extension": ".py",
   "mimetype": "text/x-python",
   "name": "python",
   "nbconvert_exporter": "python",
   "pygments_lexer": "ipython3",
   "version": "3.12.3"
  }
 },
 "nbformat": 4,
 "nbformat_minor": 2
}
